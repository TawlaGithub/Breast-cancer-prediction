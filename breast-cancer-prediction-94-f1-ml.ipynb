{
 "cells": [
  {
   "cell_type": "code",
   "execution_count": 1,
   "id": "60c538b5",
   "metadata": {
    "_cell_guid": "b1076dfc-b9ad-4769-8c92-a6c4dae69d19",
    "_uuid": "8f2839f25d086af736a60e9eeb907d3b93b6e0e5",
    "execution": {
     "iopub.execute_input": "2022-05-08T06:35:33.419250Z",
     "iopub.status.busy": "2022-05-08T06:35:33.418799Z",
     "iopub.status.idle": "2022-05-08T06:35:33.436615Z",
     "shell.execute_reply": "2022-05-08T06:35:33.436052Z"
    },
    "papermill": {
     "duration": 0.077706,
     "end_time": "2022-05-08T06:35:33.438715",
     "exception": false,
     "start_time": "2022-05-08T06:35:33.361009",
     "status": "completed"
    },
    "tags": []
   },
   "outputs": [],
   "source": [
    "import numpy as np\n",
    "import pandas as pd \n",
    "\n",
    "import os\n",
    "for dirname, _, filenames in os.walk('/kaggle/input'):\n",
    "    for filename in filenames:\n",
    "        print(os.path.join(dirname, filename))"
   ]
  },
  {
   "cell_type": "code",
   "execution_count": 2,
   "id": "1107b395",
   "metadata": {
    "execution": {
     "iopub.execute_input": "2022-05-08T06:35:33.549979Z",
     "iopub.status.busy": "2022-05-08T06:35:33.549494Z",
     "iopub.status.idle": "2022-05-08T06:35:34.709609Z",
     "shell.execute_reply": "2022-05-08T06:35:34.709015Z"
    },
    "papermill": {
     "duration": 1.21806,
     "end_time": "2022-05-08T06:35:34.711937",
     "exception": false,
     "start_time": "2022-05-08T06:35:33.493877",
     "status": "completed"
    },
    "tags": []
   },
   "outputs": [],
   "source": [
    "import matplotlib.pyplot as plt\n",
    "import seaborn as sns"
   ]
  },
  {
   "cell_type": "code",
   "execution_count": 3,
   "id": "a11f248b",
   "metadata": {
    "execution": {
     "iopub.execute_input": "2022-05-08T06:35:34.826363Z",
     "iopub.status.busy": "2022-05-08T06:35:34.825979Z",
     "iopub.status.idle": "2022-05-08T06:35:34.844115Z",
     "shell.execute_reply": "2022-05-08T06:35:34.843232Z"
    },
    "papermill": {
     "duration": 0.076629,
     "end_time": "2022-05-08T06:35:34.846343",
     "exception": false,
     "start_time": "2022-05-08T06:35:34.769714",
     "status": "completed"
    },
    "tags": []
   },
   "outputs": [
    {
     "data": {
      "text/html": [
       "<div>\n",
       "<style scoped>\n",
       "    .dataframe tbody tr th:only-of-type {\n",
       "        vertical-align: middle;\n",
       "    }\n",
       "\n",
       "    .dataframe tbody tr th {\n",
       "        vertical-align: top;\n",
       "    }\n",
       "\n",
       "    .dataframe thead th {\n",
       "        text-align: right;\n",
       "    }\n",
       "</style>\n",
       "<table border=\"1\" class=\"dataframe\">\n",
       "  <thead>\n",
       "    <tr style=\"text-align: right;\">\n",
       "      <th></th>\n",
       "      <th>mean_radius</th>\n",
       "      <th>mean_texture</th>\n",
       "      <th>mean_perimeter</th>\n",
       "      <th>mean_area</th>\n",
       "      <th>mean_smoothness</th>\n",
       "      <th>diagnosis</th>\n",
       "    </tr>\n",
       "  </thead>\n",
       "  <tbody>\n",
       "    <tr>\n",
       "      <th>0</th>\n",
       "      <td>17.99</td>\n",
       "      <td>10.38</td>\n",
       "      <td>122.80</td>\n",
       "      <td>1001.0</td>\n",
       "      <td>0.11840</td>\n",
       "      <td>0</td>\n",
       "    </tr>\n",
       "    <tr>\n",
       "      <th>1</th>\n",
       "      <td>20.57</td>\n",
       "      <td>17.77</td>\n",
       "      <td>132.90</td>\n",
       "      <td>1326.0</td>\n",
       "      <td>0.08474</td>\n",
       "      <td>0</td>\n",
       "    </tr>\n",
       "    <tr>\n",
       "      <th>2</th>\n",
       "      <td>19.69</td>\n",
       "      <td>21.25</td>\n",
       "      <td>130.00</td>\n",
       "      <td>1203.0</td>\n",
       "      <td>0.10960</td>\n",
       "      <td>0</td>\n",
       "    </tr>\n",
       "    <tr>\n",
       "      <th>3</th>\n",
       "      <td>11.42</td>\n",
       "      <td>20.38</td>\n",
       "      <td>77.58</td>\n",
       "      <td>386.1</td>\n",
       "      <td>0.14250</td>\n",
       "      <td>0</td>\n",
       "    </tr>\n",
       "    <tr>\n",
       "      <th>4</th>\n",
       "      <td>20.29</td>\n",
       "      <td>14.34</td>\n",
       "      <td>135.10</td>\n",
       "      <td>1297.0</td>\n",
       "      <td>0.10030</td>\n",
       "      <td>0</td>\n",
       "    </tr>\n",
       "    <tr>\n",
       "      <th>...</th>\n",
       "      <td>...</td>\n",
       "      <td>...</td>\n",
       "      <td>...</td>\n",
       "      <td>...</td>\n",
       "      <td>...</td>\n",
       "      <td>...</td>\n",
       "    </tr>\n",
       "    <tr>\n",
       "      <th>564</th>\n",
       "      <td>21.56</td>\n",
       "      <td>22.39</td>\n",
       "      <td>142.00</td>\n",
       "      <td>1479.0</td>\n",
       "      <td>0.11100</td>\n",
       "      <td>0</td>\n",
       "    </tr>\n",
       "    <tr>\n",
       "      <th>565</th>\n",
       "      <td>20.13</td>\n",
       "      <td>28.25</td>\n",
       "      <td>131.20</td>\n",
       "      <td>1261.0</td>\n",
       "      <td>0.09780</td>\n",
       "      <td>0</td>\n",
       "    </tr>\n",
       "    <tr>\n",
       "      <th>566</th>\n",
       "      <td>16.60</td>\n",
       "      <td>28.08</td>\n",
       "      <td>108.30</td>\n",
       "      <td>858.1</td>\n",
       "      <td>0.08455</td>\n",
       "      <td>0</td>\n",
       "    </tr>\n",
       "    <tr>\n",
       "      <th>567</th>\n",
       "      <td>20.60</td>\n",
       "      <td>29.33</td>\n",
       "      <td>140.10</td>\n",
       "      <td>1265.0</td>\n",
       "      <td>0.11780</td>\n",
       "      <td>0</td>\n",
       "    </tr>\n",
       "    <tr>\n",
       "      <th>568</th>\n",
       "      <td>7.76</td>\n",
       "      <td>24.54</td>\n",
       "      <td>47.92</td>\n",
       "      <td>181.0</td>\n",
       "      <td>0.05263</td>\n",
       "      <td>1</td>\n",
       "    </tr>\n",
       "  </tbody>\n",
       "</table>\n",
       "<p>569 rows × 6 columns</p>\n",
       "</div>"
      ],
      "text/plain": [
       "     mean_radius  mean_texture  mean_perimeter  mean_area  mean_smoothness  \\\n",
       "0          17.99         10.38          122.80     1001.0          0.11840   \n",
       "1          20.57         17.77          132.90     1326.0          0.08474   \n",
       "2          19.69         21.25          130.00     1203.0          0.10960   \n",
       "3          11.42         20.38           77.58      386.1          0.14250   \n",
       "4          20.29         14.34          135.10     1297.0          0.10030   \n",
       "..           ...           ...             ...        ...              ...   \n",
       "564        21.56         22.39          142.00     1479.0          0.11100   \n",
       "565        20.13         28.25          131.20     1261.0          0.09780   \n",
       "566        16.60         28.08          108.30      858.1          0.08455   \n",
       "567        20.60         29.33          140.10     1265.0          0.11780   \n",
       "568         7.76         24.54           47.92      181.0          0.05263   \n",
       "\n",
       "     diagnosis  \n",
       "0            0  \n",
       "1            0  \n",
       "2            0  \n",
       "3            0  \n",
       "4            0  \n",
       "..         ...  \n",
       "564          0  \n",
       "565          0  \n",
       "566          0  \n",
       "567          0  \n",
       "568          1  \n",
       "\n",
       "[569 rows x 6 columns]"
      ]
     },
     "execution_count": 3,
     "metadata": {},
     "output_type": "execute_result"
    }
   ],
   "source": [
    "df = pd.read_csv('Breast_cancer_data.csv')\n",
    "df"
   ]
  },
  {
   "cell_type": "code",
   "execution_count": 4,
   "id": "e489e1f9",
   "metadata": {
    "execution": {
     "iopub.execute_input": "2022-05-08T06:35:34.958413Z",
     "iopub.status.busy": "2022-05-08T06:35:34.958147Z",
     "iopub.status.idle": "2022-05-08T06:35:34.979832Z",
     "shell.execute_reply": "2022-05-08T06:35:34.979319Z"
    },
    "papermill": {
     "duration": 0.080682,
     "end_time": "2022-05-08T06:35:34.982317",
     "exception": false,
     "start_time": "2022-05-08T06:35:34.901635",
     "status": "completed"
    },
    "tags": []
   },
   "outputs": [
    {
     "data": {
      "text/html": [
       "<div>\n",
       "<style scoped>\n",
       "    .dataframe tbody tr th:only-of-type {\n",
       "        vertical-align: middle;\n",
       "    }\n",
       "\n",
       "    .dataframe tbody tr th {\n",
       "        vertical-align: top;\n",
       "    }\n",
       "\n",
       "    .dataframe thead th {\n",
       "        text-align: right;\n",
       "    }\n",
       "</style>\n",
       "<table border=\"1\" class=\"dataframe\">\n",
       "  <thead>\n",
       "    <tr style=\"text-align: right;\">\n",
       "      <th></th>\n",
       "      <th>mean_radius</th>\n",
       "      <th>mean_texture</th>\n",
       "      <th>mean_perimeter</th>\n",
       "      <th>mean_area</th>\n",
       "      <th>mean_smoothness</th>\n",
       "      <th>diagnosis</th>\n",
       "    </tr>\n",
       "  </thead>\n",
       "  <tbody>\n",
       "    <tr>\n",
       "      <th>0</th>\n",
       "      <td>17.99</td>\n",
       "      <td>10.38</td>\n",
       "      <td>122.80</td>\n",
       "      <td>1001.0</td>\n",
       "      <td>0.11840</td>\n",
       "      <td>0</td>\n",
       "    </tr>\n",
       "    <tr>\n",
       "      <th>1</th>\n",
       "      <td>20.57</td>\n",
       "      <td>17.77</td>\n",
       "      <td>132.90</td>\n",
       "      <td>1326.0</td>\n",
       "      <td>0.08474</td>\n",
       "      <td>0</td>\n",
       "    </tr>\n",
       "    <tr>\n",
       "      <th>2</th>\n",
       "      <td>19.69</td>\n",
       "      <td>21.25</td>\n",
       "      <td>130.00</td>\n",
       "      <td>1203.0</td>\n",
       "      <td>0.10960</td>\n",
       "      <td>0</td>\n",
       "    </tr>\n",
       "    <tr>\n",
       "      <th>3</th>\n",
       "      <td>11.42</td>\n",
       "      <td>20.38</td>\n",
       "      <td>77.58</td>\n",
       "      <td>386.1</td>\n",
       "      <td>0.14250</td>\n",
       "      <td>0</td>\n",
       "    </tr>\n",
       "    <tr>\n",
       "      <th>4</th>\n",
       "      <td>20.29</td>\n",
       "      <td>14.34</td>\n",
       "      <td>135.10</td>\n",
       "      <td>1297.0</td>\n",
       "      <td>0.10030</td>\n",
       "      <td>0</td>\n",
       "    </tr>\n",
       "  </tbody>\n",
       "</table>\n",
       "</div>"
      ],
      "text/plain": [
       "   mean_radius  mean_texture  mean_perimeter  mean_area  mean_smoothness  \\\n",
       "0        17.99         10.38          122.80     1001.0          0.11840   \n",
       "1        20.57         17.77          132.90     1326.0          0.08474   \n",
       "2        19.69         21.25          130.00     1203.0          0.10960   \n",
       "3        11.42         20.38           77.58      386.1          0.14250   \n",
       "4        20.29         14.34          135.10     1297.0          0.10030   \n",
       "\n",
       "   diagnosis  \n",
       "0          0  \n",
       "1          0  \n",
       "2          0  \n",
       "3          0  \n",
       "4          0  "
      ]
     },
     "execution_count": 4,
     "metadata": {},
     "output_type": "execute_result"
    }
   ],
   "source": [
    "df.head()"
   ]
  },
  {
   "cell_type": "code",
   "execution_count": 5,
   "id": "419e123c",
   "metadata": {},
   "outputs": [
    {
     "data": {
      "text/plain": [
       "(569, 6)"
      ]
     },
     "execution_count": 5,
     "metadata": {},
     "output_type": "execute_result"
    }
   ],
   "source": [
    "df.shape"
   ]
  },
  {
   "cell_type": "code",
   "execution_count": 6,
   "id": "be7c9dfd",
   "metadata": {},
   "outputs": [
    {
     "data": {
      "text/plain": [
       "3414"
      ]
     },
     "execution_count": 6,
     "metadata": {},
     "output_type": "execute_result"
    }
   ],
   "source": [
    "df.size"
   ]
  },
  {
   "cell_type": "code",
   "execution_count": 7,
   "id": "073fb99e",
   "metadata": {
    "execution": {
     "iopub.execute_input": "2022-05-08T06:35:35.208527Z",
     "iopub.status.busy": "2022-05-08T06:35:35.208101Z",
     "iopub.status.idle": "2022-05-08T06:35:35.246446Z",
     "shell.execute_reply": "2022-05-08T06:35:35.245825Z"
    },
    "papermill": {
     "duration": 0.096592,
     "end_time": "2022-05-08T06:35:35.248379",
     "exception": false,
     "start_time": "2022-05-08T06:35:35.151787",
     "status": "completed"
    },
    "tags": []
   },
   "outputs": [
    {
     "data": {
      "text/html": [
       "<div>\n",
       "<style scoped>\n",
       "    .dataframe tbody tr th:only-of-type {\n",
       "        vertical-align: middle;\n",
       "    }\n",
       "\n",
       "    .dataframe tbody tr th {\n",
       "        vertical-align: top;\n",
       "    }\n",
       "\n",
       "    .dataframe thead th {\n",
       "        text-align: right;\n",
       "    }\n",
       "</style>\n",
       "<table border=\"1\" class=\"dataframe\">\n",
       "  <thead>\n",
       "    <tr style=\"text-align: right;\">\n",
       "      <th></th>\n",
       "      <th>mean_radius</th>\n",
       "      <th>mean_texture</th>\n",
       "      <th>mean_perimeter</th>\n",
       "      <th>mean_area</th>\n",
       "      <th>mean_smoothness</th>\n",
       "      <th>diagnosis</th>\n",
       "    </tr>\n",
       "  </thead>\n",
       "  <tbody>\n",
       "    <tr>\n",
       "      <th>count</th>\n",
       "      <td>569.000000</td>\n",
       "      <td>569.000000</td>\n",
       "      <td>569.000000</td>\n",
       "      <td>569.000000</td>\n",
       "      <td>569.000000</td>\n",
       "      <td>569.000000</td>\n",
       "    </tr>\n",
       "    <tr>\n",
       "      <th>mean</th>\n",
       "      <td>14.127292</td>\n",
       "      <td>19.289649</td>\n",
       "      <td>91.969033</td>\n",
       "      <td>654.889104</td>\n",
       "      <td>0.096360</td>\n",
       "      <td>0.627417</td>\n",
       "    </tr>\n",
       "    <tr>\n",
       "      <th>std</th>\n",
       "      <td>3.524049</td>\n",
       "      <td>4.301036</td>\n",
       "      <td>24.298981</td>\n",
       "      <td>351.914129</td>\n",
       "      <td>0.014064</td>\n",
       "      <td>0.483918</td>\n",
       "    </tr>\n",
       "    <tr>\n",
       "      <th>min</th>\n",
       "      <td>6.981000</td>\n",
       "      <td>9.710000</td>\n",
       "      <td>43.790000</td>\n",
       "      <td>143.500000</td>\n",
       "      <td>0.052630</td>\n",
       "      <td>0.000000</td>\n",
       "    </tr>\n",
       "    <tr>\n",
       "      <th>25%</th>\n",
       "      <td>11.700000</td>\n",
       "      <td>16.170000</td>\n",
       "      <td>75.170000</td>\n",
       "      <td>420.300000</td>\n",
       "      <td>0.086370</td>\n",
       "      <td>0.000000</td>\n",
       "    </tr>\n",
       "    <tr>\n",
       "      <th>50%</th>\n",
       "      <td>13.370000</td>\n",
       "      <td>18.840000</td>\n",
       "      <td>86.240000</td>\n",
       "      <td>551.100000</td>\n",
       "      <td>0.095870</td>\n",
       "      <td>1.000000</td>\n",
       "    </tr>\n",
       "    <tr>\n",
       "      <th>75%</th>\n",
       "      <td>15.780000</td>\n",
       "      <td>21.800000</td>\n",
       "      <td>104.100000</td>\n",
       "      <td>782.700000</td>\n",
       "      <td>0.105300</td>\n",
       "      <td>1.000000</td>\n",
       "    </tr>\n",
       "    <tr>\n",
       "      <th>max</th>\n",
       "      <td>28.110000</td>\n",
       "      <td>39.280000</td>\n",
       "      <td>188.500000</td>\n",
       "      <td>2501.000000</td>\n",
       "      <td>0.163400</td>\n",
       "      <td>1.000000</td>\n",
       "    </tr>\n",
       "  </tbody>\n",
       "</table>\n",
       "</div>"
      ],
      "text/plain": [
       "       mean_radius  mean_texture  mean_perimeter    mean_area  \\\n",
       "count   569.000000    569.000000      569.000000   569.000000   \n",
       "mean     14.127292     19.289649       91.969033   654.889104   \n",
       "std       3.524049      4.301036       24.298981   351.914129   \n",
       "min       6.981000      9.710000       43.790000   143.500000   \n",
       "25%      11.700000     16.170000       75.170000   420.300000   \n",
       "50%      13.370000     18.840000       86.240000   551.100000   \n",
       "75%      15.780000     21.800000      104.100000   782.700000   \n",
       "max      28.110000     39.280000      188.500000  2501.000000   \n",
       "\n",
       "       mean_smoothness   diagnosis  \n",
       "count       569.000000  569.000000  \n",
       "mean          0.096360    0.627417  \n",
       "std           0.014064    0.483918  \n",
       "min           0.052630    0.000000  \n",
       "25%           0.086370    0.000000  \n",
       "50%           0.095870    1.000000  \n",
       "75%           0.105300    1.000000  \n",
       "max           0.163400    1.000000  "
      ]
     },
     "execution_count": 7,
     "metadata": {},
     "output_type": "execute_result"
    }
   ],
   "source": [
    "df.describe()"
   ]
  },
  {
   "cell_type": "code",
   "execution_count": 8,
   "id": "42379894",
   "metadata": {
    "execution": {
     "iopub.execute_input": "2022-05-08T06:35:35.362868Z",
     "iopub.status.busy": "2022-05-08T06:35:35.362473Z",
     "iopub.status.idle": "2022-05-08T06:35:35.372477Z",
     "shell.execute_reply": "2022-05-08T06:35:35.371835Z"
    },
    "papermill": {
     "duration": 0.069262,
     "end_time": "2022-05-08T06:35:35.374363",
     "exception": false,
     "start_time": "2022-05-08T06:35:35.305101",
     "status": "completed"
    },
    "tags": []
   },
   "outputs": [
    {
     "data": {
      "text/plain": [
       "0"
      ]
     },
     "execution_count": 8,
     "metadata": {},
     "output_type": "execute_result"
    }
   ],
   "source": [
    "df.duplicated().sum()"
   ]
  },
  {
   "cell_type": "code",
   "execution_count": 9,
   "id": "bddac238",
   "metadata": {
    "execution": {
     "iopub.execute_input": "2022-05-08T06:35:35.489464Z",
     "iopub.status.busy": "2022-05-08T06:35:35.488880Z",
     "iopub.status.idle": "2022-05-08T06:35:35.495421Z",
     "shell.execute_reply": "2022-05-08T06:35:35.494699Z"
    },
    "papermill": {
     "duration": 0.066191,
     "end_time": "2022-05-08T06:35:35.497148",
     "exception": false,
     "start_time": "2022-05-08T06:35:35.430957",
     "status": "completed"
    },
    "tags": []
   },
   "outputs": [
    {
     "data": {
      "text/plain": [
       "mean_radius        0\n",
       "mean_texture       0\n",
       "mean_perimeter     0\n",
       "mean_area          0\n",
       "mean_smoothness    0\n",
       "diagnosis          0\n",
       "dtype: int64"
      ]
     },
     "execution_count": 9,
     "metadata": {},
     "output_type": "execute_result"
    }
   ],
   "source": [
    "df.isnull().sum()"
   ]
  },
  {
   "cell_type": "code",
   "execution_count": 10,
   "id": "778ff8ac",
   "metadata": {
    "execution": {
     "iopub.execute_input": "2022-05-08T06:35:35.611811Z",
     "iopub.status.busy": "2022-05-08T06:35:35.611419Z",
     "iopub.status.idle": "2022-05-08T06:35:35.615466Z",
     "shell.execute_reply": "2022-05-08T06:35:35.614748Z"
    },
    "papermill": {
     "duration": 0.063558,
     "end_time": "2022-05-08T06:35:35.617545",
     "exception": false,
     "start_time": "2022-05-08T06:35:35.553987",
     "status": "completed"
    },
    "tags": []
   },
   "outputs": [
    {
     "name": "stdout",
     "output_type": "stream",
     "text": [
      "['mean_radius', 'mean_texture', 'mean_perimeter', 'mean_area', 'mean_smoothness', 'diagnosis']\n"
     ]
    }
   ],
   "source": [
    "cols = list(df.columns)\n",
    "print(cols)"
   ]
  },
  {
   "cell_type": "markdown",
   "id": "06b0c7af",
   "metadata": {
    "papermill": {
     "duration": 0.075713,
     "end_time": "2022-05-08T06:35:46.230407",
     "exception": false,
     "start_time": "2022-05-08T06:35:46.154694",
     "status": "completed"
    },
    "tags": []
   },
   "source": [
    "# Preprocessing"
   ]
  },
  {
   "cell_type": "code",
   "execution_count": 11,
   "id": "e186bfa5",
   "metadata": {
    "execution": {
     "iopub.execute_input": "2022-05-08T06:35:46.382599Z",
     "iopub.status.busy": "2022-05-08T06:35:46.382354Z",
     "iopub.status.idle": "2022-05-08T06:35:46.556477Z",
     "shell.execute_reply": "2022-05-08T06:35:46.555406Z"
    },
    "papermill": {
     "duration": 0.252827,
     "end_time": "2022-05-08T06:35:46.558673",
     "exception": false,
     "start_time": "2022-05-08T06:35:46.305846",
     "status": "completed"
    },
    "tags": []
   },
   "outputs": [
    {
     "data": {
      "text/html": [
       "<div>\n",
       "<style scoped>\n",
       "    .dataframe tbody tr th:only-of-type {\n",
       "        vertical-align: middle;\n",
       "    }\n",
       "\n",
       "    .dataframe tbody tr th {\n",
       "        vertical-align: top;\n",
       "    }\n",
       "\n",
       "    .dataframe thead th {\n",
       "        text-align: right;\n",
       "    }\n",
       "</style>\n",
       "<table border=\"1\" class=\"dataframe\">\n",
       "  <thead>\n",
       "    <tr style=\"text-align: right;\">\n",
       "      <th></th>\n",
       "      <th>mean_radius</th>\n",
       "      <th>mean_texture</th>\n",
       "      <th>mean_perimeter</th>\n",
       "      <th>mean_area</th>\n",
       "      <th>mean_smoothness</th>\n",
       "      <th>diagnosis</th>\n",
       "    </tr>\n",
       "  </thead>\n",
       "  <tbody>\n",
       "    <tr>\n",
       "      <th>0</th>\n",
       "      <td>0.521037</td>\n",
       "      <td>0.022658</td>\n",
       "      <td>0.545989</td>\n",
       "      <td>0.363733</td>\n",
       "      <td>0.593753</td>\n",
       "      <td>0.0</td>\n",
       "    </tr>\n",
       "    <tr>\n",
       "      <th>1</th>\n",
       "      <td>0.643144</td>\n",
       "      <td>0.272574</td>\n",
       "      <td>0.615783</td>\n",
       "      <td>0.501591</td>\n",
       "      <td>0.289880</td>\n",
       "      <td>0.0</td>\n",
       "    </tr>\n",
       "    <tr>\n",
       "      <th>2</th>\n",
       "      <td>0.601496</td>\n",
       "      <td>0.390260</td>\n",
       "      <td>0.595743</td>\n",
       "      <td>0.449417</td>\n",
       "      <td>0.514309</td>\n",
       "      <td>0.0</td>\n",
       "    </tr>\n",
       "    <tr>\n",
       "      <th>3</th>\n",
       "      <td>0.210090</td>\n",
       "      <td>0.360839</td>\n",
       "      <td>0.233501</td>\n",
       "      <td>0.102906</td>\n",
       "      <td>0.811321</td>\n",
       "      <td>0.0</td>\n",
       "    </tr>\n",
       "    <tr>\n",
       "      <th>4</th>\n",
       "      <td>0.629893</td>\n",
       "      <td>0.156578</td>\n",
       "      <td>0.630986</td>\n",
       "      <td>0.489290</td>\n",
       "      <td>0.430351</td>\n",
       "      <td>0.0</td>\n",
       "    </tr>\n",
       "  </tbody>\n",
       "</table>\n",
       "</div>"
      ],
      "text/plain": [
       "   mean_radius  mean_texture  mean_perimeter  mean_area  mean_smoothness  \\\n",
       "0     0.521037      0.022658        0.545989   0.363733         0.593753   \n",
       "1     0.643144      0.272574        0.615783   0.501591         0.289880   \n",
       "2     0.601496      0.390260        0.595743   0.449417         0.514309   \n",
       "3     0.210090      0.360839        0.233501   0.102906         0.811321   \n",
       "4     0.629893      0.156578        0.630986   0.489290         0.430351   \n",
       "\n",
       "   diagnosis  \n",
       "0        0.0  \n",
       "1        0.0  \n",
       "2        0.0  \n",
       "3        0.0  \n",
       "4        0.0  "
      ]
     },
     "execution_count": 11,
     "metadata": {},
     "output_type": "execute_result"
    }
   ],
   "source": [
    "from sklearn.preprocessing import MinMaxScaler\n",
    "scaler = MinMaxScaler()\n",
    "df_scaled = pd.DataFrame(scaler.fit_transform(df), columns=cols)\n",
    "df_scaled.head()"
   ]
  },
  {
   "cell_type": "code",
   "execution_count": 12,
   "id": "bc4d9015",
   "metadata": {
    "execution": {
     "iopub.execute_input": "2022-05-08T06:35:46.669399Z",
     "iopub.status.busy": "2022-05-08T06:35:46.669014Z",
     "iopub.status.idle": "2022-05-08T06:35:46.681976Z",
     "shell.execute_reply": "2022-05-08T06:35:46.680837Z"
    },
    "papermill": {
     "duration": 0.070517,
     "end_time": "2022-05-08T06:35:46.684185",
     "exception": false,
     "start_time": "2022-05-08T06:35:46.613668",
     "status": "completed"
    },
    "tags": []
   },
   "outputs": [
    {
     "data": {
      "text/html": [
       "<div>\n",
       "<style scoped>\n",
       "    .dataframe tbody tr th:only-of-type {\n",
       "        vertical-align: middle;\n",
       "    }\n",
       "\n",
       "    .dataframe tbody tr th {\n",
       "        vertical-align: top;\n",
       "    }\n",
       "\n",
       "    .dataframe thead th {\n",
       "        text-align: right;\n",
       "    }\n",
       "</style>\n",
       "<table border=\"1\" class=\"dataframe\">\n",
       "  <thead>\n",
       "    <tr style=\"text-align: right;\">\n",
       "      <th></th>\n",
       "      <th>mean_radius</th>\n",
       "      <th>mean_texture</th>\n",
       "      <th>mean_perimeter</th>\n",
       "      <th>mean_area</th>\n",
       "      <th>mean_smoothness</th>\n",
       "    </tr>\n",
       "  </thead>\n",
       "  <tbody>\n",
       "    <tr>\n",
       "      <th>0</th>\n",
       "      <td>0.521037</td>\n",
       "      <td>0.022658</td>\n",
       "      <td>0.545989</td>\n",
       "      <td>0.363733</td>\n",
       "      <td>0.593753</td>\n",
       "    </tr>\n",
       "    <tr>\n",
       "      <th>1</th>\n",
       "      <td>0.643144</td>\n",
       "      <td>0.272574</td>\n",
       "      <td>0.615783</td>\n",
       "      <td>0.501591</td>\n",
       "      <td>0.289880</td>\n",
       "    </tr>\n",
       "    <tr>\n",
       "      <th>2</th>\n",
       "      <td>0.601496</td>\n",
       "      <td>0.390260</td>\n",
       "      <td>0.595743</td>\n",
       "      <td>0.449417</td>\n",
       "      <td>0.514309</td>\n",
       "    </tr>\n",
       "    <tr>\n",
       "      <th>3</th>\n",
       "      <td>0.210090</td>\n",
       "      <td>0.360839</td>\n",
       "      <td>0.233501</td>\n",
       "      <td>0.102906</td>\n",
       "      <td>0.811321</td>\n",
       "    </tr>\n",
       "    <tr>\n",
       "      <th>4</th>\n",
       "      <td>0.629893</td>\n",
       "      <td>0.156578</td>\n",
       "      <td>0.630986</td>\n",
       "      <td>0.489290</td>\n",
       "      <td>0.430351</td>\n",
       "    </tr>\n",
       "  </tbody>\n",
       "</table>\n",
       "</div>"
      ],
      "text/plain": [
       "   mean_radius  mean_texture  mean_perimeter  mean_area  mean_smoothness\n",
       "0     0.521037      0.022658        0.545989   0.363733         0.593753\n",
       "1     0.643144      0.272574        0.615783   0.501591         0.289880\n",
       "2     0.601496      0.390260        0.595743   0.449417         0.514309\n",
       "3     0.210090      0.360839        0.233501   0.102906         0.811321\n",
       "4     0.629893      0.156578        0.630986   0.489290         0.430351"
      ]
     },
     "execution_count": 12,
     "metadata": {},
     "output_type": "execute_result"
    }
   ],
   "source": [
    "X = df_scaled.iloc[:,:5]\n",
    "y = df_scaled['diagnosis']\n",
    "X.head()"
   ]
  },
  {
   "cell_type": "markdown",
   "id": "d887cbde",
   "metadata": {
    "papermill": {
     "duration": 0.053656,
     "end_time": "2022-05-08T06:35:46.791951",
     "exception": false,
     "start_time": "2022-05-08T06:35:46.738295",
     "status": "completed"
    },
    "tags": []
   },
   "source": [
    "# Machine Learning"
   ]
  },
  {
   "cell_type": "code",
   "execution_count": 13,
   "id": "5aa1fd16",
   "metadata": {
    "execution": {
     "iopub.execute_input": "2022-05-08T06:35:46.901971Z",
     "iopub.status.busy": "2022-05-08T06:35:46.901674Z",
     "iopub.status.idle": "2022-05-08T06:35:47.230525Z",
     "shell.execute_reply": "2022-05-08T06:35:47.229482Z"
    },
    "papermill": {
     "duration": 0.386486,
     "end_time": "2022-05-08T06:35:47.232771",
     "exception": false,
     "start_time": "2022-05-08T06:35:46.846285",
     "status": "completed"
    },
    "tags": []
   },
   "outputs": [],
   "source": [
    "from sklearn.model_selection import train_test_split\n",
    "from sklearn.model_selection import GridSearchCV, KFold\n",
    "from sklearn.linear_model import LogisticRegression\n",
    "from sklearn.neighbors import KNeighborsClassifier\n",
    "from sklearn.svm import SVC\n",
    "from sklearn.discriminant_analysis import LinearDiscriminantAnalysis as LDA\n",
    "from sklearn import tree\n",
    "from sklearn.tree import DecisionTreeClassifier\n",
    "from sklearn.ensemble import RandomForestClassifier\n",
    "from sklearn.ensemble import AdaBoostClassifier\n",
    "from sklearn.ensemble import GradientBoostingClassifier\n",
    "from sklearn.metrics import confusion_matrix\n",
    "from sklearn.metrics import precision_score, recall_score, f1_score, accuracy_score"
   ]
  },
  {
   "cell_type": "code",
   "execution_count": 14,
   "id": "54417742",
   "metadata": {
    "execution": {
     "iopub.execute_input": "2022-05-08T06:35:47.348639Z",
     "iopub.status.busy": "2022-05-08T06:35:47.348354Z",
     "iopub.status.idle": "2022-05-08T06:35:47.358785Z",
     "shell.execute_reply": "2022-05-08T06:35:47.357685Z"
    },
    "papermill": {
     "duration": 0.074513,
     "end_time": "2022-05-08T06:35:47.361471",
     "exception": false,
     "start_time": "2022-05-08T06:35:47.286958",
     "status": "completed"
    },
    "tags": []
   },
   "outputs": [],
   "source": [
    "X_train, X_test, y_train, y_test = train_test_split(X, y, test_size=0.25, random_state=42, stratify=y)"
   ]
  },
  {
   "cell_type": "code",
   "execution_count": 15,
   "id": "351a647a",
   "metadata": {
    "execution": {
     "iopub.execute_input": "2022-05-08T06:35:47.519648Z",
     "iopub.status.busy": "2022-05-08T06:35:47.518954Z",
     "iopub.status.idle": "2022-05-08T06:35:47.524086Z",
     "shell.execute_reply": "2022-05-08T06:35:47.523174Z"
    },
    "papermill": {
     "duration": 0.085339,
     "end_time": "2022-05-08T06:35:47.526015",
     "exception": false,
     "start_time": "2022-05-08T06:35:47.440676",
     "status": "completed"
    },
    "tags": []
   },
   "outputs": [],
   "source": [
    "scoring = {\n",
    "    'accuracy': 'accuracy',\n",
    "    'precision': 'precision',\n",
    "    'recall': 'recall',\n",
    "    'f1': 'f1',\n",
    "    }"
   ]
  },
  {
   "cell_type": "code",
   "execution_count": 16,
   "id": "326cedbb",
   "metadata": {
    "execution": {
     "iopub.execute_input": "2022-05-08T06:35:47.637955Z",
     "iopub.status.busy": "2022-05-08T06:35:47.637591Z",
     "iopub.status.idle": "2022-05-08T06:35:47.654184Z",
     "shell.execute_reply": "2022-05-08T06:35:47.653624Z"
    },
    "papermill": {
     "duration": 0.074858,
     "end_time": "2022-05-08T06:35:47.656263",
     "exception": false,
     "start_time": "2022-05-08T06:35:47.581405",
     "status": "completed"
    },
    "tags": []
   },
   "outputs": [],
   "source": [
    "def fit(clf, params, cv=10, X_train=X_train, y_train=y_train):\n",
    "    grid = GridSearchCV(clf, params, cv=KFold(n_splits=cv), n_jobs=1, verbose=1, return_train_score=True, scoring=scoring, refit='f1') #verbose and n_jobs help us see the computation time and score of a cv. Higher the value of verbose, more the information printed out.\n",
    "    grid.fit(X_train, y_train)\n",
    "    return grid\n",
    "\n",
    "def make_predictions(model, X_test=X_test):\n",
    "    return model.predict(X_test)\n",
    "\n",
    "def best_scores(model):\n",
    "    best_mean_f1 = max(list(model.cv_results_['mean_test_f1']))\n",
    "    mean_f1_index = list(model.cv_results_['mean_test_f1']).index(best_mean_f1)\n",
    "    print(f'The best parameters are: {model.best_params_}')\n",
    "    print('Mean Test Cross Validation Scores for different metrics: (corresponding to best mean f1)')\n",
    "    print('The best score that we get is (Accuracy): ' + str(model.cv_results_['mean_test_accuracy'][mean_f1_index]))\n",
    "    print('The best score that we get is (Precision): ' + str(model.cv_results_['mean_test_precision'][mean_f1_index]))\n",
    "    print('The best score that we get is (Recall): ' + str(model.cv_results_['mean_test_recall'][mean_f1_index]))\n",
    "    print(f'The best score that we get is (F1 Score): {best_mean_f1}')\n",
    "    return None\n",
    "\n",
    "def plot_confusion_matrix(y_pred):\n",
    "    print('00: True Negatives\\n01: False Positives\\n10: False Negatives\\n11: True Positives\\n')\n",
    "    conf_matrix = confusion_matrix(y_true=y_test, y_pred=y_pred)\n",
    "    fig, ax = plt.subplots(figsize=(5, 5))\n",
    "    ax.matshow(conf_matrix, cmap='GnBu', alpha=0.75)\n",
    "    for i in range(conf_matrix.shape[0]):\n",
    "        for j in range(conf_matrix.shape[1]):\n",
    "            ax.text(x=j, y=i,s=conf_matrix[i, j], va='center', ha='center', size='large') \n",
    "    plt.xlabel('Predictions', fontsize=14)\n",
    "    plt.ylabel('Actuals', fontsize=14)\n",
    "    plt.title('Confusion Matrix', fontsize=14)\n",
    "    plt.show()\n",
    "    return None\n",
    "\n",
    "def check_scores(y_pred):\n",
    "    print('Precision: %.3f' % precision_score(y_test, y_pred))\n",
    "    print('Recall: %.3f' % recall_score(y_test, y_pred))\n",
    "    print('Accuracy: %.3f' % accuracy_score(y_test, y_pred))\n",
    "    print('F1 Score: %.3f' % f1_score(y_test, y_pred))\n",
    "    return None"
   ]
  },
  {
   "cell_type": "code",
   "execution_count": 17,
   "id": "42e0a7d0",
   "metadata": {
    "execution": {
     "iopub.execute_input": "2022-05-08T06:35:47.766294Z",
     "iopub.status.busy": "2022-05-08T06:35:47.765835Z",
     "iopub.status.idle": "2022-05-08T06:35:47.769877Z",
     "shell.execute_reply": "2022-05-08T06:35:47.768961Z"
    },
    "papermill": {
     "duration": 0.061132,
     "end_time": "2022-05-08T06:35:47.771841",
     "exception": false,
     "start_time": "2022-05-08T06:35:47.710709",
     "status": "completed"
    },
    "tags": []
   },
   "outputs": [],
   "source": [
    "import warnings\n",
    "warnings.filterwarnings('always')"
   ]
  },
  {
   "cell_type": "markdown",
   "id": "032000cb",
   "metadata": {
    "papermill": {
     "duration": 0.053868,
     "end_time": "2022-05-08T06:35:47.880112",
     "exception": false,
     "start_time": "2022-05-08T06:35:47.826244",
     "status": "completed"
    },
    "tags": []
   },
   "source": [
    "## Logistic Regression"
   ]
  },
  {
   "cell_type": "code",
   "execution_count": 18,
   "id": "4fe56dae",
   "metadata": {
    "execution": {
     "iopub.execute_input": "2022-05-08T06:35:47.990939Z",
     "iopub.status.busy": "2022-05-08T06:35:47.990448Z",
     "iopub.status.idle": "2022-05-08T06:35:51.945120Z",
     "shell.execute_reply": "2022-05-08T06:35:51.944379Z"
    },
    "papermill": {
     "duration": 4.013259,
     "end_time": "2022-05-08T06:35:51.947407",
     "exception": false,
     "start_time": "2022-05-08T06:35:47.934148",
     "status": "completed"
    },
    "tags": []
   },
   "outputs": [
    {
     "name": "stdout",
     "output_type": "stream",
     "text": [
      "Fitting 10 folds for each of 16 candidates, totalling 160 fits\n"
     ]
    },
    {
     "name": "stderr",
     "output_type": "stream",
     "text": [
      "C:\\Users\\Tawla\\anaconda3\\lib\\site-packages\\sklearn\\metrics\\_classification.py:1248: UndefinedMetricWarning: Precision is ill-defined and being set to 0.0 due to no predicted samples. Use `zero_division` parameter to control this behavior.\n",
      "  _warn_prf(average, modifier, msg_start, len(result))\n",
      "C:\\Users\\Tawla\\anaconda3\\lib\\site-packages\\sklearn\\metrics\\_classification.py:1248: UndefinedMetricWarning: Precision is ill-defined and being set to 0.0 due to no predicted samples. Use `zero_division` parameter to control this behavior.\n",
      "  _warn_prf(average, modifier, msg_start, len(result))\n",
      "C:\\Users\\Tawla\\anaconda3\\lib\\site-packages\\sklearn\\metrics\\_classification.py:1248: UndefinedMetricWarning: Precision is ill-defined and being set to 0.0 due to no predicted samples. Use `zero_division` parameter to control this behavior.\n",
      "  _warn_prf(average, modifier, msg_start, len(result))\n",
      "C:\\Users\\Tawla\\anaconda3\\lib\\site-packages\\sklearn\\metrics\\_classification.py:1248: UndefinedMetricWarning: Precision is ill-defined and being set to 0.0 due to no predicted samples. Use `zero_division` parameter to control this behavior.\n",
      "  _warn_prf(average, modifier, msg_start, len(result))\n"
     ]
    }
   ],
   "source": [
    "lr_params = {'C':[0.001,.009,0.01,.09,1,5,10,25], 'penalty':['l1', 'l2']} #lasso and ridge regression\n",
    "lr_clf = LogisticRegression(solver='saga', max_iter=5000)\n",
    "lr_model = fit(lr_clf, lr_params)"
   ]
  },
  {
   "cell_type": "code",
   "execution_count": 19,
   "id": "06da48bc",
   "metadata": {
    "execution": {
     "iopub.execute_input": "2022-05-08T06:35:52.264864Z",
     "iopub.status.busy": "2022-05-08T06:35:52.264423Z",
     "iopub.status.idle": "2022-05-08T06:35:52.275318Z",
     "shell.execute_reply": "2022-05-08T06:35:52.273982Z"
    },
    "papermill": {
     "duration": 0.091401,
     "end_time": "2022-05-08T06:35:52.277397",
     "exception": false,
     "start_time": "2022-05-08T06:35:52.185996",
     "status": "completed"
    },
    "tags": []
   },
   "outputs": [
    {
     "name": "stdout",
     "output_type": "stream",
     "text": [
      "Precision: 0.940\n",
      "Recall: 0.878\n",
      "Accuracy: 0.888\n",
      "F1 Score: 0.908\n"
     ]
    }
   ],
   "source": [
    "lr_y_pred = make_predictions(lr_model)\n",
    "check_scores(lr_y_pred)"
   ]
  },
  {
   "cell_type": "code",
   "execution_count": 20,
   "id": "8af12d9c",
   "metadata": {
    "execution": {
     "iopub.execute_input": "2022-05-08T06:35:52.433708Z",
     "iopub.status.busy": "2022-05-08T06:35:52.433303Z",
     "iopub.status.idle": "2022-05-08T06:35:52.598861Z",
     "shell.execute_reply": "2022-05-08T06:35:52.598275Z"
    },
    "papermill": {
     "duration": 0.245679,
     "end_time": "2022-05-08T06:35:52.600533",
     "exception": false,
     "start_time": "2022-05-08T06:35:52.354854",
     "status": "completed"
    },
    "tags": []
   },
   "outputs": [
    {
     "name": "stdout",
     "output_type": "stream",
     "text": [
      "00: True Negatives\n",
      "01: False Positives\n",
      "10: False Negatives\n",
      "11: True Positives\n",
      "\n"
     ]
    },
    {
     "data": {
      "image/png": "[encoded data removed]",
      "text/plain": [
       "<Figure size 360x360 with 1 Axes>"
      ]
     },
     "metadata": {
      "needs_background": "light"
     },
     "output_type": "display_data"
    }
   ],
   "source": [
    "plot_confusion_matrix(lr_y_pred)"
   ]
  },
  {
   "cell_type": "markdown",
   "id": "fd607625",
   "metadata": {
    "papermill": {
     "duration": 0.086608,
     "end_time": "2022-05-08T06:36:02.842469",
     "exception": false,
     "start_time": "2022-05-08T06:36:02.755861",
     "status": "completed"
    },
    "tags": []
   },
   "source": [
    "## K-NNs"
   ]
  },
  {
   "cell_type": "code",
   "execution_count": 21,
   "id": "50c7a076",
   "metadata": {
    "execution": {
     "iopub.execute_input": "2022-05-08T06:36:03.016571Z",
     "iopub.status.busy": "2022-05-08T06:36:03.016305Z",
     "iopub.status.idle": "2022-05-08T06:36:24.371180Z",
     "shell.execute_reply": "2022-05-08T06:36:24.369788Z"
    },
    "papermill": {
     "duration": 21.444735,
     "end_time": "2022-05-08T06:36:24.373822",
     "exception": false,
     "start_time": "2022-05-08T06:36:02.929087",
     "status": "completed"
    },
    "tags": []
   },
   "outputs": [
    {
     "name": "stdout",
     "output_type": "stream",
     "text": [
      "Fitting 10 folds for each of 120 candidates, totalling 1200 fits\n"
     ]
    }
   ],
   "source": [
    "knns_params = {'n_neighbors': list(range(1, 31)), 'weights': ['uniform', 'distance'], \n",
    "               'metric': ['euclidean', 'manhattan']}\n",
    "knns_clf = KNeighborsClassifier()\n",
    "knns_model = fit(knns_clf, knns_params)"
   ]
  },
  {
   "cell_type": "code",
   "execution_count": 22,
   "id": "29eae7f9",
   "metadata": {
    "execution": {
     "iopub.execute_input": "2022-05-08T06:36:24.549985Z",
     "iopub.status.busy": "2022-05-08T06:36:24.549495Z",
     "iopub.status.idle": "2022-05-08T06:36:24.554593Z",
     "shell.execute_reply": "2022-05-08T06:36:24.553857Z"
    },
    "papermill": {
     "duration": 0.096988,
     "end_time": "2022-05-08T06:36:24.557707",
     "exception": false,
     "start_time": "2022-05-08T06:36:24.460719",
     "status": "completed"
    },
    "tags": []
   },
   "outputs": [
    {
     "name": "stdout",
     "output_type": "stream",
     "text": [
      "The best parameters are: {'metric': 'euclidean', 'n_neighbors': 19, 'weights': 'distance'}\n",
      "Mean Test Cross Validation Scores for different metrics: (corresponding to best mean f1)\n",
      "The best score that we get is (Accuracy): 0.9414174972314507\n",
      "The best score that we get is (Precision): 0.9337856925548806\n",
      "The best score that we get is (Recall): 0.977142892229099\n",
      "The best score that we get is (F1 Score): 0.9543675677752178\n"
     ]
    }
   ],
   "source": [
    "best_scores(knns_model)"
   ]
  },
  {
   "cell_type": "code",
   "execution_count": 23,
   "id": "8e5f37f9",
   "metadata": {
    "execution": {
     "iopub.execute_input": "2022-05-08T06:36:24.684605Z",
     "iopub.status.busy": "2022-05-08T06:36:24.683309Z",
     "iopub.status.idle": "2022-05-08T06:36:24.701953Z",
     "shell.execute_reply": "2022-05-08T06:36:24.700868Z"
    },
    "papermill": {
     "duration": 0.082989,
     "end_time": "2022-05-08T06:36:24.703911",
     "exception": false,
     "start_time": "2022-05-08T06:36:24.620922",
     "status": "completed"
    },
    "tags": []
   },
   "outputs": [
    {
     "name": "stdout",
     "output_type": "stream",
     "text": [
      "Precision: 0.943\n",
      "Recall: 0.922\n",
      "Accuracy: 0.916\n",
      "F1 Score: 0.933\n"
     ]
    }
   ],
   "source": [
    "knns_y_pred = make_predictions(knns_model)\n",
    "check_scores(knns_y_pred)"
   ]
  },
  {
   "cell_type": "code",
   "execution_count": 24,
   "id": "26623b92",
   "metadata": {
    "execution": {
     "iopub.execute_input": "2022-05-08T06:36:24.828235Z",
     "iopub.status.busy": "2022-05-08T06:36:24.827820Z",
     "iopub.status.idle": "2022-05-08T06:36:24.974307Z",
     "shell.execute_reply": "2022-05-08T06:36:24.973368Z"
    },
    "papermill": {
     "duration": 0.210731,
     "end_time": "2022-05-08T06:36:24.976122",
     "exception": false,
     "start_time": "2022-05-08T06:36:24.765391",
     "status": "completed"
    },
    "tags": []
   },
   "outputs": [
    {
     "name": "stdout",
     "output_type": "stream",
     "text": [
      "00: True Negatives\n",
      "01: False Positives\n",
      "10: False Negatives\n",
      "11: True Positives\n",
      "\n"
     ]
    },
    {
     "data": {
      "image/png": "[encoded data removed]",
      "text/plain": [
       "<Figure size 360x360 with 1 Axes>"
      ]
     },
     "metadata": {
      "needs_background": "light"
     },
     "output_type": "display_data"
    }
   ],
   "source": [
    "plot_confusion_matrix(knns_y_pred)"
   ]
  },
  {
   "cell_type": "code",
   "execution_count": 33,
   "id": "fb41439b",
   "metadata": {},
   "outputs": [
    {
     "ename": "AttributeError",
     "evalue": "'numpy.ndarray' object has no attribute 'predict'",
     "output_type": "error",
     "traceback": [
      "\u001b[1;31m---------------------------------------------------------------------------\u001b[0m",
      "\u001b[1;31mAttributeError\u001b[0m                            Traceback (most recent call last)",
      "\u001b[1;32m~\\AppData\\Local\\Temp/ipykernel_2508/2906803535.py\u001b[0m in \u001b[0;36m<module>\u001b[1;34m\u001b[0m\n\u001b[0;32m      1\u001b[0m \u001b[0mdf\u001b[0m \u001b[1;33m=\u001b[0m \u001b[0mnp\u001b[0m\u001b[1;33m.\u001b[0m\u001b[0marray\u001b[0m\u001b[1;33m(\u001b[0m\u001b[1;33m[\u001b[0m\u001b[1;33m[\u001b[0m\u001b[1;36m17.99\u001b[0m\u001b[1;33m,\u001b[0m\u001b[1;36m10.38\u001b[0m\u001b[1;33m,\u001b[0m\u001b[1;36m122.8\u001b[0m\u001b[1;33m,\u001b[0m\u001b[1;36m1001\u001b[0m\u001b[1;33m,\u001b[0m\u001b[1;36m0.1184\u001b[0m\u001b[1;33m]\u001b[0m\u001b[1;33m]\u001b[0m\u001b[1;33m)\u001b[0m\u001b[1;33m\u001b[0m\u001b[1;33m\u001b[0m\u001b[0m\n\u001b[1;32m----> 2\u001b[1;33m \u001b[0mprediction\u001b[0m \u001b[1;33m=\u001b[0m \u001b[0mmake_predictions\u001b[0m\u001b[1;33m(\u001b[0m\u001b[0mknns_model\u001b[0m\u001b[1;33m)\u001b[0m\u001b[1;33m\u001b[0m\u001b[1;33m\u001b[0m\u001b[0m\n\u001b[0m\u001b[0;32m      3\u001b[0m \u001b[0mprint\u001b[0m\u001b[1;33m(\u001b[0m\u001b[0mprediction\u001b[0m\u001b[1;33m)\u001b[0m\u001b[1;33m\u001b[0m\u001b[1;33m\u001b[0m\u001b[0m\n",
      "\u001b[1;32m~\\AppData\\Local\\Temp/ipykernel_2508/3939424873.py\u001b[0m in \u001b[0;36mmake_predictions\u001b[1;34m(model, X_test)\u001b[0m\n\u001b[0;32m      5\u001b[0m \u001b[1;33m\u001b[0m\u001b[0m\n\u001b[0;32m      6\u001b[0m \u001b[1;32mdef\u001b[0m \u001b[0mmake_predictions\u001b[0m\u001b[1;33m(\u001b[0m\u001b[0mmodel\u001b[0m\u001b[1;33m,\u001b[0m \u001b[0mX_test\u001b[0m\u001b[1;33m=\u001b[0m\u001b[0mX_test\u001b[0m\u001b[1;33m)\u001b[0m\u001b[1;33m:\u001b[0m\u001b[1;33m\u001b[0m\u001b[1;33m\u001b[0m\u001b[0m\n\u001b[1;32m----> 7\u001b[1;33m     \u001b[1;32mreturn\u001b[0m \u001b[0mmodel\u001b[0m\u001b[1;33m.\u001b[0m\u001b[0mpredict\u001b[0m\u001b[1;33m(\u001b[0m\u001b[0mX_test\u001b[0m\u001b[1;33m)\u001b[0m\u001b[1;33m\u001b[0m\u001b[1;33m\u001b[0m\u001b[0m\n\u001b[0m\u001b[0;32m      8\u001b[0m \u001b[1;33m\u001b[0m\u001b[0m\n\u001b[0;32m      9\u001b[0m \u001b[1;32mdef\u001b[0m \u001b[0mbest_scores\u001b[0m\u001b[1;33m(\u001b[0m\u001b[0mmodel\u001b[0m\u001b[1;33m)\u001b[0m\u001b[1;33m:\u001b[0m\u001b[1;33m\u001b[0m\u001b[1;33m\u001b[0m\u001b[0m\n",
      "\u001b[1;31mAttributeError\u001b[0m: 'numpy.ndarray' object has no attribute 'predict'"
     ]
    }
   ],
   "source": [
    "df = np.array([[17.99,10.38,122.8,1001,0.1184]])\n",
    "prediction = make_predictions(knns_model)\n",
    "print(prediction)"
   ]
  },
  {
   "cell_type": "code",
   "execution_count": null,
   "id": "71eed80b",
   "metadata": {},
   "outputs": [],
   "source": []
  }
 ],
 "metadata": {
  "kernelspec": {
   "display_name": "Python 3 (ipykernel)",
   "language": "python",
   "name": "python3"
  },
  "language_info": {
   "codemirror_mode": {
    "name": "ipython",
    "version": 3
   },
   "file_extension": ".py",
   "mimetype": "text/x-python",
   "name": "python",
   "nbconvert_exporter": "python",
   "pygments_lexer": "ipython3",
   "version": "3.9.7"
  },
  "papermill": {
   "default_parameters": {},
   "duration": 63.440438,
   "end_time": "2022-05-08T06:36:25.879916",
   "environment_variables": {},
   "exception": null,
   "input_path": "__notebook__.ipynb",
   "output_path": "__notebook__.ipynb",
   "parameters": {},
   "start_time": "2022-05-08T06:35:22.439478",
   "version": "2.3.4"
  }
 },
 "nbformat": 4,
 "nbformat_minor": 5
}
